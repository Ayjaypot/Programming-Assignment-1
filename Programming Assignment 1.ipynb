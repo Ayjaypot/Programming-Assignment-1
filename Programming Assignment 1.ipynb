{
 "cells": [
  {
   "cell_type": "code",
   "execution_count": 56,
   "id": "4f70c0d9-f75e-4a08-bb00-81a5b9f5e683",
   "metadata": {},
   "outputs": [
    {
     "name": "stdout",
     "output_type": "stream",
     "text": [
      "Youcan:)and:D\n"
     ]
    }
   ],
   "source": [
    "def emojireplace(sentence):\n",
    "    e = {\"smile\":\":)\",\"grin\":\":D\",\"sad\":\":(\",\"mad\":\">:(\"}\n",
    "    w = sentence.split()\n",
    "    r = [e.get(word, word) for word in w]\n",
    "    c = \"\".join(r)\n",
    "    print(c)\n",
    "\n",
    "\n",
    "emojireplace(\"You can smile and grin\")\n"
   ]
  },
  {
   "cell_type": "code",
   "execution_count": 48,
   "id": "b0b1a755-1a88-4c38-aa1b-00047281125c",
   "metadata": {},
   "outputs": [
    {
     "name": "stdout",
     "output_type": "stream",
     "text": [
      "eiinrstuvy\n"
     ]
    }
   ],
   "source": [
    "# function for the sorting of letters alphabetically\n",
    "def sortword(word):\n",
    "    #Declation for the word to be sorted\n",
    "    s = word\n",
    "    #Built in function for sorting words alphabetically into a list\n",
    "    b = sorted(s)\n",
    "    #Built in function for joining the sorted list into a single string\n",
    "    c = ''.join(b)\n",
    "    #printing of the word sorted alphabetically\n",
    "    print(c)\n",
    "\n",
    "sortword(\"university\")\n",
    "\n"
   ]
  },
  {
   "cell_type": "code",
   "execution_count": 34,
   "id": "16c8474d-0f6f-44a0-aea9-89350c404835",
   "metadata": {},
   "outputs": [
    {
     "name": "stdout",
     "output_type": "stream",
     "text": [
      "first: 1\n",
      "middle: 2 3 4 5\n",
      "last: 6\n"
     ]
    }
   ],
   "source": [
    "# declaration of list\n",
    "m = [1,2,3,4,5,6]\n",
    "\n",
    "#built in function for unpacking the list into three parts\n",
    "first, *middle, last = m\n",
    "\n",
    "# printing the first part\n",
    "print(\"first:\",first)\n",
    "\n",
    "# printing the middle part\n",
    "print(\"middle:\",*middle)\n",
    "\n",
    "# printing the last part\n",
    "print(\"last:\",last)"
   ]
  },
  {
   "cell_type": "code",
   "execution_count": null,
   "id": "d1ed2cc4-8ea9-4743-9eb2-94e20c12dfd4",
   "metadata": {},
   "outputs": [],
   "source": []
  },
  {
   "cell_type": "code",
   "execution_count": null,
   "id": "557c8c37-3a1d-4fd8-9566-7bc21cb54ef5",
   "metadata": {},
   "outputs": [],
   "source": []
  }
 ],
 "metadata": {
  "kernelspec": {
   "display_name": "Python 3 (ipykernel)",
   "language": "python",
   "name": "python3"
  },
  "language_info": {
   "codemirror_mode": {
    "name": "ipython",
    "version": 3
   },
   "file_extension": ".py",
   "mimetype": "text/x-python",
   "name": "python",
   "nbconvert_exporter": "python",
   "pygments_lexer": "ipython3",
   "version": "3.12.4"
  }
 },
 "nbformat": 4,
 "nbformat_minor": 5
}
